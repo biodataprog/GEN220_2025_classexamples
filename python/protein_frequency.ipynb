{
 "cells": [
  {
   "cell_type": "code",
   "execution_count": 5,
   "id": "826e8851-3d3e-4071-957c-ccd889fd57cf",
   "metadata": {},
   "outputs": [],
   "source": [
    "import itertools\n",
    "import sys\n",
    "import re\n",
    "\n",
    "# based on post here\n",
    "# https://drj11.wordpress.com/2010/02/22/python-getting-fasta-with-itertools-groupby/\n",
    "\n",
    "# define what a header looks like in FASTA format\n",
    "def isheader(line):\n",
    "    return line[0] == '>'\n",
    "\n",
    "\n",
    "# this function reads in fasta file and returns pairs of data\n",
    "# where the first item is the ID and the second is the sequence\n",
    "# it isn't that efficient as it reads it all into memory\n",
    "# but this is good enough for our project\n",
    "def aspairs(filename):\n",
    "    seq_id = ''\n",
    "    sequence = ''\n",
    "    with open(filename,\"r\") as f:\n",
    "        for header,group in itertools.groupby(f, isheader):\n",
    "            if header:\n",
    "                line = next(group)\n",
    "                seq_id = line[1:].split()[0]\n",
    "            else:\n",
    "                sequence = ''.join(line.strip() for line in group)\n",
    "                yield seq_id, sequence"
   ]
  },
  {
   "cell_type": "code",
   "execution_count": 2,
   "id": "e502632b-25c2-4f46-b806-164c1686826b",
   "metadata": {},
   "outputs": [
    {
     "name": "stdout",
     "output_type": "stream",
     "text": [
      "There are 4213 proteins\n"
     ]
    }
   ],
   "source": [
    "inputfile=\"E_coli_K12.pep\"\n",
    "numprots = 0\n",
    "with open(inputfile,\"r\") as fh:\n",
    "    for line in fh:\n",
    "        if line.startswith('>'):\n",
    "            numprots += 1\n",
    "    print(f'There are {numprots} proteins')"
   ]
  },
  {
   "cell_type": "code",
   "execution_count": 12,
   "id": "51020db0-9ae1-4847-a39b-b36cb56cfbf0",
   "metadata": {},
   "outputs": [
    {
     "name": "stdout",
     "output_type": "stream",
     "text": [
      "There are 4213 proteins\n",
      "There are 8426 proteins\n",
      "{'M': 37739, 'K': 58843, 'R': 74021, 'I': 80211, 'S': 77358, 'T': 72057, 'G': 98579, 'N': 52508, 'A': 127253, 'V': 94522, 'L': 142792, 'F': 51976, 'E': 77207, 'D': 68787, 'Q': 59505, 'P': 59237, 'H': 30423, 'C': 15485, 'Y': 37984, 'W': 20474, 'U': 3} \n",
      " 1336964\n",
      "A\t 9.518%\n",
      "C\t 1.158%\n",
      "D\t 5.145%\n",
      "E\t 5.775%\n",
      "F\t 3.888%\n",
      "G\t 7.373%\n",
      "H\t 2.276%\n",
      "I\t 5.999%\n",
      "K\t 4.401%\n",
      "L\t10.680%\n",
      "M\t 2.823%\n",
      "N\t 3.927%\n",
      "P\t 4.431%\n",
      "Q\t 4.451%\n",
      "R\t 5.536%\n",
      "S\t 5.786%\n",
      "T\t 5.390%\n",
      "U\t 0.000%\n",
      "V\t 7.070%\n",
      "W\t 1.531%\n",
      "Y\t 2.841%\n",
      "now sorted by most frequent AA\n",
      "L\t10.680%\n",
      "A\t 9.518%\n",
      "G\t 7.373%\n",
      "V\t 7.070%\n",
      "I\t 5.999%\n",
      "S\t 5.786%\n",
      "E\t 5.775%\n",
      "R\t 5.536%\n",
      "T\t 5.390%\n",
      "D\t 5.145%\n",
      "Q\t 4.451%\n",
      "P\t 4.431%\n",
      "K\t 4.401%\n",
      "N\t 3.927%\n",
      "F\t 3.888%\n",
      "Y\t 2.841%\n",
      "M\t 2.823%\n",
      "H\t 2.276%\n",
      "W\t 1.531%\n",
      "C\t 1.158%\n",
      "U\t 0.000%\n"
     ]
    }
   ],
   "source": [
    "seqdata = aspairs(inputfile)\n",
    "numprots=0\n",
    "for s in seqdata:\n",
    "    numprots += 1\n",
    "print(f'There are {numprots} proteins')\n",
    "\n",
    "seqdata = aspairs(inputfile)\n",
    "AA_counts = {}\n",
    "for p in seqdata:\n",
    "    numprots +=1\n",
    "    pepid = p[0]\n",
    "    pepseq = p[1]\n",
    "    # loop through all the letters in this sequence\n",
    "    for aa in pepseq:\n",
    "        count = 1 + AA_counts.get(aa,0)\n",
    "        AA_counts[aa] = count\n",
    "total_len = sum(AA_counts.values())\n",
    "print(f'There are {numprots} proteins')\n",
    "print(AA_counts,\"\\n\",total_len)\n",
    "for aa in sorted(AA_counts):\n",
    "    fraction = AA_counts[aa] / total_len\n",
    "    print(f'{aa}\\t{100*fraction:6.3f}%')\n",
    "\n",
    "print(\"now sorted by most frequent AA\")\n",
    "for aa in sorted(AA_counts,reverse=True,key=lambda x: AA_counts[x]):\n",
    "    print(f'{aa}\\t{100*AA_counts[aa]/total_len:6.3f}%')"
   ]
  },
  {
   "cell_type": "code",
   "execution_count": null,
   "id": "03251a20-f737-43ec-b731-8e6c232dca34",
   "metadata": {},
   "outputs": [],
   "source": []
  }
 ],
 "metadata": {
  "kernelspec": {
   "display_name": "Python 3 (ipykernel)",
   "language": "python",
   "name": "python3"
  },
  "language_info": {
   "codemirror_mode": {
    "name": "ipython",
    "version": 3
   },
   "file_extension": ".py",
   "mimetype": "text/x-python",
   "name": "python",
   "nbconvert_exporter": "python",
   "pygments_lexer": "ipython3",
   "version": "3.11.3"
  }
 },
 "nbformat": 4,
 "nbformat_minor": 5
}
