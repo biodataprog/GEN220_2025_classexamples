{
 "cells": [
  {
   "cell_type": "code",
   "execution_count": 10,
   "id": "826e8851-3d3e-4071-957c-ccd889fd57cf",
   "metadata": {},
   "outputs": [],
   "source": [
    "import itertools\n",
    "import sys\n",
    "import re\n",
    "\n",
    "# based on post here\n",
    "# https://drj11.wordpress.com/2010/02/22/python-getting-fasta-with-itertools-groupby/\n",
    "\n",
    "# define what a header looks like in FASTA format\n",
    "def isheader(line):\n",
    "    return line[0] == '>'\n",
    "\n",
    "\n",
    "# this function reads in fasta file and returns pairs of data\n",
    "# where the first item is the ID and the second is the sequence\n",
    "# it isn't that efficient as it reads it all into memory\n",
    "# but this is good enough for our project\n",
    "def aspairs(f):\n",
    "    seq_id = ''\n",
    "    sequence = ''\n",
    "    for header,group in itertools.groupby(f, isheader):\n",
    "        if header:\n",
    "            line = next(group)\n",
    "            seq_id = line[1:].split()[0]\n",
    "        else:\n",
    "            sequence = ''.join(line.strip() for line in group)\n",
    "            yield seq_id, sequence"
   ]
  },
  {
   "cell_type": "code",
   "execution_count": 12,
   "id": "e502632b-25c2-4f46-b806-164c1686826b",
   "metadata": {},
   "outputs": [
    {
     "name": "stdout",
     "output_type": "stream",
     "text": [
      "There are 4213 proteins\n"
     ]
    }
   ],
   "source": [
    "inputfile=\"E_coli_K12.pep\"\n",
    "numprots = 0\n",
    "with open(inputfile,\"r\") as fh:\n",
    "    for line in fh:\n",
    "        if line.startswith('>'):\n",
    "            numprots += 1\n",
    "    print(f'There are {numprots} proteins')"
   ]
  },
  {
   "cell_type": "code",
   "execution_count": null,
   "id": "51020db0-9ae1-4847-a39b-b36cb56cfbf0",
   "metadata": {},
   "outputs": [],
   "source": []
  }
 ],
 "metadata": {
  "kernelspec": {
   "display_name": "Python 3 (ipykernel)",
   "language": "python",
   "name": "python3"
  },
  "language_info": {
   "codemirror_mode": {
    "name": "ipython",
    "version": 3
   },
   "file_extension": ".py",
   "mimetype": "text/x-python",
   "name": "python",
   "nbconvert_exporter": "python",
   "pygments_lexer": "ipython3",
   "version": "3.11.3"
  }
 },
 "nbformat": 4,
 "nbformat_minor": 5
}
