{
 "cells": [
  {
   "cell_type": "code",
   "execution_count": 2,
   "id": "a213f656-73e6-446e-b35d-fe917d10252e",
   "metadata": {},
   "outputs": [
    {
     "name": "stdout",
     "output_type": "stream",
     "text": [
      "a\n"
     ]
    }
   ],
   "source": [
    "print('a')"
   ]
  },
  {
   "cell_type": "code",
   "execution_count": 2,
   "id": "aba08d97-1487-4878-941d-7e38e8dcd545",
   "metadata": {},
   "outputs": [
    {
     "data": {
      "text/plain": [
       "'concatenatethesetogether'"
      ]
     },
     "execution_count": 2,
     "metadata": {},
     "output_type": "execute_result"
    }
   ],
   "source": [
    "('concatenate ' 'these ' 'together')\n",
    "('concatenate' 'these' 'together')"
   ]
  },
  {
   "cell_type": "code",
   "execution_count": 3,
   "id": "ad5d39bd-ca2c-42f2-a807-29c3f595a34f",
   "metadata": {},
   "outputs": [
    {
     "name": "stdout",
     "output_type": "stream",
     "text": [
      "d is  0\n"
     ]
    },
    {
     "ename": "NameError",
     "evalue": "name 'e' is not defined",
     "output_type": "error",
     "traceback": [
      "\u001b[0;31m---------------------------------------------------------------------------\u001b[0m",
      "\u001b[0;31mNameError\u001b[0m                                 Traceback (most recent call last)",
      "Cell \u001b[0;32mIn[3], line 3\u001b[0m\n\u001b[1;32m      1\u001b[0m d \u001b[38;5;241m=\u001b[39m \u001b[38;5;241m0\u001b[39m\n\u001b[1;32m      2\u001b[0m \u001b[38;5;28mprint\u001b[39m(\u001b[38;5;124m\"\u001b[39m\u001b[38;5;124md is \u001b[39m\u001b[38;5;124m\"\u001b[39m, d)\n\u001b[0;32m----> 3\u001b[0m \u001b[38;5;28mprint\u001b[39m(\u001b[38;5;124m'\u001b[39m\u001b[38;5;124me is \u001b[39m\u001b[38;5;124m'\u001b[39m, \u001b[43me\u001b[49m)\n",
      "\u001b[0;31mNameError\u001b[0m: name 'e' is not defined"
     ]
    }
   ],
   "source": [
    "d = 0\n",
    "print(\"d is \", d)\n",
    "print('e is ', e)"
   ]
  },
  {
   "cell_type": "code",
   "execution_count": 6,
   "id": "b633fa69-99f1-452c-af58-b33c157f8c34",
   "metadata": {},
   "outputs": [
    {
     "name": "stdout",
     "output_type": "stream",
     "text": [
      "56\n",
      "156\n",
      "256\n",
      "25.6\n"
     ]
    }
   ],
   "source": [
    "d=8*7\n",
    "print(d)\n",
    "d = d + 100\n",
    "print(d)\n",
    "d += 100\n",
    "print(d)\n",
    "d /= 10\n",
    "print(d)"
   ]
  },
  {
   "cell_type": "code",
   "execution_count": 9,
   "id": "36a92930-66fa-4468-8a22-9d3ae5382c51",
   "metadata": {},
   "outputs": [
    {
     "name": "stdout",
     "output_type": "stream",
     "text": [
      "['Jumping', 'cow', 'over', 'the', 'moon']\n",
      "number of words are:  5\n"
     ]
    }
   ],
   "source": [
    "str = \"Jumping cow over the moon\"\n",
    "dividedstr = str.split(\" \")\n",
    "print(dividedstr)\n",
    "print('number of words are: ',len(dividedstr))"
   ]
  },
  {
   "cell_type": "code",
   "execution_count": 18,
   "id": "f7ee57ae-d7d3-4700-a363-410990f95674",
   "metadata": {},
   "outputs": [
    {
     "name": "stdout",
     "output_type": "stream",
     "text": [
      "I\n",
      "I a\n",
      "I am\n",
      "this string is  18  letters long\n",
      "den god!\n",
      "n god!\n"
     ]
    }
   ],
   "source": [
    "msg=\"I am a golden god!\"\n",
    "print(msg[0])\n",
    "print(msg[0:3])\n",
    "print(msg[:4])\n",
    "print('this string is ',len(msg),' letters long')\n",
    "# go from 10th letter to the end\n",
    "print(msg[10:])\n",
    "# last 6 letters of the string\n",
    "print(msg[-6:])"
   ]
  },
  {
   "cell_type": "code",
   "execution_count": 19,
   "id": "5c7b81cd-e3c2-4417-8a6f-35e2115fb927",
   "metadata": {},
   "outputs": [
    {
     "name": "stdout",
     "output_type": "stream",
     "text": [
      "20\n",
      "10\n",
      "2\n"
     ]
    }
   ],
   "source": [
    "l = [2, 3, 5, 10]\n",
    "print(sum(l))\n",
    "print(max(l))\n",
    "print(min(l))"
   ]
  },
  {
   "cell_type": "code",
   "execution_count": 21,
   "id": "91017694-7e44-4b9e-905c-1dad529b7ff4",
   "metadata": {},
   "outputs": [
    {
     "name": "stdout",
     "output_type": "stream",
     "text": [
      "mean is  5.0\n"
     ]
    }
   ],
   "source": [
    "mean = sum(l) / len(l)\n",
    "print(\"mean is \", mean)"
   ]
  },
  {
   "cell_type": "code",
   "execution_count": 22,
   "id": "8b02cc9c-d302-4cf9-bf6f-b93a5d7e9e80",
   "metadata": {},
   "outputs": [
    {
     "name": "stdout",
     "output_type": "stream",
     "text": [
      "unsorted list: [10, 3, 17, 4]\n",
      "sorted list: [3, 4, 10, 17]\n"
     ]
    }
   ],
   "source": [
    "l = [10,3,17,4]\n",
    "print('unsorted list:',l)\n",
    "l.sort()\n",
    "print('sorted list:', l)"
   ]
  },
  {
   "cell_type": "code",
   "execution_count": 25,
   "id": "53a6a791-b3c8-41cd-9aaf-f1911b7b853d",
   "metadata": {},
   "outputs": [
    {
     "name": "stdout",
     "output_type": "stream",
     "text": [
      "unsorted list: [100, 3, 62, 500]\n",
      "sorted list: [3, 62, 100, 500]\n",
      "unsorted list: [100, 3, 62, 500]\n"
     ]
    }
   ],
   "source": [
    "m = [100,3,62,500]\n",
    "print('unsorted list:',m)\n",
    "print('sorted list:', sorted(m))\n",
    "print('unsorted list:',m)"
   ]
  },
  {
   "cell_type": "code",
   "execution_count": 26,
   "id": "a54041f3-f7e3-422e-a133-e270550d82f9",
   "metadata": {},
   "outputs": [
    {
     "name": "stdout",
     "output_type": "stream",
     "text": [
      "['apple', 'fz', 'no', 'zf']\n"
     ]
    }
   ],
   "source": [
    "ls = ['zf','fz','no','apple']\n",
    "ls.sort()\n",
    "print(ls)"
   ]
  },
  {
   "cell_type": "code",
   "execution_count": 30,
   "id": "f2f071f1-a84a-4fb6-8431-167b08ba3ac0",
   "metadata": {},
   "outputs": [
    {
     "ename": "TypeError",
     "evalue": "'<' not supported between instances of 'int' and 'str'",
     "output_type": "error",
     "traceback": [
      "\u001b[0;31m---------------------------------------------------------------------------\u001b[0m",
      "\u001b[0;31mTypeError\u001b[0m                                 Traceback (most recent call last)",
      "Cell \u001b[0;32mIn[30], line 5\u001b[0m\n\u001b[1;32m      3\u001b[0m ls\u001b[38;5;241m.\u001b[39mappend(\u001b[38;5;124m'\u001b[39m\u001b[38;5;124m9ghi\u001b[39m\u001b[38;5;124m'\u001b[39m)\n\u001b[1;32m      4\u001b[0m ls\u001b[38;5;241m.\u001b[39mappend(\u001b[38;5;241m10\u001b[39m)\n\u001b[0;32m----> 5\u001b[0m \u001b[38;5;28mprint\u001b[39m(\u001b[38;5;28;43msorted\u001b[39;49m\u001b[43m(\u001b[49m\u001b[43mls\u001b[49m\u001b[43m)\u001b[49m)\n",
      "\u001b[0;31mTypeError\u001b[0m: '<' not supported between instances of 'int' and 'str'"
     ]
    }
   ],
   "source": [
    "ls.append('1note')\n",
    "ls.append('zz80')\n",
    "ls.append('9ghi')\n",
    "ls.append(10)\n",
    "print(sorted(ls))"
   ]
  },
  {
   "cell_type": "code",
   "execution_count": 44,
   "id": "cc24e9f0-9f34-4947-b963-52068245ec49",
   "metadata": {},
   "outputs": [
    {
     "name": "stdout",
     "output_type": "stream",
     "text": [
      "['Symbol:NASDAQ=AAPL', 'Date:2015-10-01', 'Performance:Open=111.29,Close=109.56']\n",
      "['Symbol', 'NASDAQ=AAPL']\n",
      "AAPL\n",
      "AAPL\n"
     ]
    },
    {
     "data": {
      "text/plain": [
       "'AAPL'"
      ]
     },
     "execution_count": 44,
     "metadata": {},
     "output_type": "execute_result"
    }
   ],
   "source": [
    "q = \"Symbol:NASDAQ=AAPL;Date:2015-10-01;Performance:Open=111.29,Close=109.56\"\n",
    "types = q.split(\";\")\n",
    "print(types)\n",
    "symbolset = types[0].split(\":\")\n",
    "print(symbolset)\n",
    "# will print\n",
    "['Symbol', 'NASDAQ=AAPL']      \n",
    "symbol = symbolset[1].split(\"=\")\n",
    "symbol\n",
    "# will print\n",
    "['NASDAQ', 'AAPL']\n",
    "print(symbol[1])\n",
    "# will print\n",
    "'AAPL'\n",
    "print(symbolset[1].split(\"=\")[1])\n",
    "# will print\n",
    "'AAPL'"
   ]
  },
  {
   "cell_type": "code",
   "execution_count": 40,
   "id": "639e436b-b0ee-41af-a1bb-25344f466b73",
   "metadata": {},
   "outputs": [
    {
     "name": "stdout",
     "output_type": "stream",
     "text": [
      "['Symbol:NASDAQ=AAPL', '  Date:2015-10-01', 'Performance:Open=111.29,Close=109.56']\n",
      "['Symbol:NASDAQ=AAPL', 'Date:2015-10-01', 'Performance:Open=111.29,Close=109.56']\n"
     ]
    }
   ],
   "source": [
    "q = \"Symbol:NASDAQ=AAPL\\t  Date:2015-10-01\tPerformance:Open=111.29,Close=109.56\"\n",
    "types = q.split(\"\\t\")\n",
    "print(types)\n",
    "\n",
    "types = q.split()\n",
    "print(types)\n"
   ]
  },
  {
   "cell_type": "code",
   "execution_count": 43,
   "id": "174a8b06-b3fb-4c00-91d3-5ccd65af797b",
   "metadata": {},
   "outputs": [
    {
     "name": "stdout",
     "output_type": "stream",
     "text": [
      "'Symbol:NASDAQ=AAPL\\t  Date:2015-10-01\\tPerformance:Open=111.29,Close=109.56'\n",
      "Symbol:NASDAQ=AAPL\t  Date:2015-10-01\tPerformance:Open=111.29,Close=109.56\n"
     ]
    }
   ],
   "source": [
    "print(repr(q))\n",
    "\n",
    "print(q)"
   ]
  },
  {
   "cell_type": "code",
   "execution_count": 45,
   "id": "138d304b-d281-40cf-97da-af095472de40",
   "metadata": {},
   "outputs": [
    {
     "name": "stdout",
     "output_type": "stream",
     "text": [
      "['NASDAQ', 'AAPL']\n"
     ]
    }
   ],
   "source": [
    "print(symbol)"
   ]
  },
  {
   "cell_type": "code",
   "execution_count": 46,
   "id": "a6e39bb5-3570-4795-8213-32c60b964768",
   "metadata": {},
   "outputs": [
    {
     "name": "stdout",
     "output_type": "stream",
     "text": [
      "The stock exchange for AAPL is NASDAQ\n"
     ]
    }
   ],
   "source": [
    "print(\"The stock exchange for\",symbol[1], 'is',symbol[0]) "
   ]
  },
  {
   "cell_type": "code",
   "execution_count": 47,
   "id": "a6f67dcd-d978-4966-b31f-ffea21690863",
   "metadata": {},
   "outputs": [
    {
     "name": "stdout",
     "output_type": "stream",
     "text": [
      "The stock exchange for AAPL is NASDAQ\n"
     ]
    }
   ],
   "source": [
    "print(\"The stock exchange for %s is %s\" % (symbol[1], symbol[0]))"
   ]
  },
  {
   "cell_type": "code",
   "execution_count": 49,
   "id": "4918dade-19d6-4f0d-96e7-792b667a961d",
   "metadata": {},
   "outputs": [
    {
     "name": "stdout",
     "output_type": "stream",
     "text": [
      "the symbol NASDAQ is from AAPL exch\n"
     ]
    }
   ],
   "source": [
    "print(\"the symbol %s is from %s exch\" %(symbol[0],symbol[1]))"
   ]
  },
  {
   "cell_type": "code",
   "execution_count": 61,
   "id": "3d732927-8ac9-4e94-a0c7-9c042eac1b27",
   "metadata": {},
   "outputs": [
    {
     "name": "stdout",
     "output_type": "stream",
     "text": [
      "the answer is '2         ' 2.17\n",
      "the answer is       1000 100.00\n",
      "the answer is         22 100.00\n",
      "the answer is        212 100.00\n"
     ]
    }
   ],
   "source": [
    "d=50\n",
    "print(\"the answer is '%-10d' %.2f\" % (d/23, d/23))\n",
    "print(\"the answer is %10d %.2f\"%(1000, 100))\n",
    "print(\"the answer is %10d %.2f\"%(22, 100))\n",
    "print(\"the answer is %10d %.2f\"%(212, 100))"
   ]
  },
  {
   "cell_type": "code",
   "execution_count": 69,
   "id": "41a75040-69fb-40fc-9754-3255c7ceee94",
   "metadata": {},
   "outputs": [
    {
     "name": "stdout",
     "output_type": "stream",
     "text": [
      "The ans is    50 and also 5.0\n"
     ]
    }
   ],
   "source": [
    "print(f\"The ans is {d:5} and also {d/10}\")"
   ]
  },
  {
   "cell_type": "code",
   "execution_count": 76,
   "id": "d0e08c28-c350-46ba-8f85-01974c00a85f",
   "metadata": {},
   "outputs": [
    {
     "ename": "TypeError",
     "evalue": "'str' object is not callable",
     "output_type": "error",
     "traceback": [
      "\u001b[0;31m---------------------------------------------------------------------------\u001b[0m",
      "\u001b[0;31mTypeError\u001b[0m                                 Traceback (most recent call last)",
      "Cell \u001b[0;32mIn[76], line 1\u001b[0m\n\u001b[0;32m----> 1\u001b[0m \u001b[38;5;28mprint\u001b[39m(\u001b[38;5;124mf\u001b[39m\u001b[38;5;124m\"\u001b[39m\u001b[38;5;124mThe ans is \u001b[39m\u001b[38;5;132;01m{\u001b[39;00md\u001b[38;5;132;01m:\u001b[39;00m\u001b[38;5;124m5\u001b[39m\u001b[38;5;132;01m}\u001b[39;00m\u001b[38;5;124m and also \u001b[39m\u001b[38;5;132;01m{\u001b[39;00md\u001b[38;5;241m/\u001b[39m\u001b[38;5;241m10\u001b[39m\u001b[38;5;132;01m}\u001b[39;00m\u001b[38;5;124m\"\u001b[39m \u001b[38;5;124mf\u001b[39m\u001b[38;5;124m\"\u001b[39m\u001b[38;5;124m  \u001b[39m\u001b[38;5;132;01m{\u001b[39;00m\u001b[38;5;28mmin\u001b[39m(l)\u001b[38;5;132;01m}\u001b[39;00m\u001b[38;5;124m\"\u001b[39m \u001b[38;5;241m+\u001b[39m \u001b[38;5;28;43mstr\u001b[39;49m\u001b[43m(\u001b[49m\u001b[43md\u001b[49m\u001b[43m)\u001b[49m)\n",
      "\u001b[0;31mTypeError\u001b[0m: 'str' object is not callable"
     ]
    }
   ],
   "source": [
    "print(f\"The ans is {d} and also {d/10}\" f\"  {min(l)}\")"
   ]
  },
  {
   "cell_type": "code",
   "execution_count": 81,
   "id": "61f4e2f2-5cad-4c32-a1ad-985ff2822340",
   "metadata": {},
   "outputs": [
    {
     "name": "stdout",
     "output_type": "stream",
     "text": [
      "['a', 'b', 'c']\n",
      "a,b,c\n"
     ]
    }
   ],
   "source": [
    "ls = ['a', 'b', 'c']\n",
    "print(ls)\n",
    "print(\",\".join(ls))"
   ]
  },
  {
   "cell_type": "code",
   "execution_count": 84,
   "id": "ec3b2f01-d0fc-4fe1-b770-d1043e0caf02",
   "metadata": {},
   "outputs": [
    {
     "name": "stdout",
     "output_type": "stream",
     "text": [
      "Do you want to volunteer for the mosquito trial?:  No No No No No No No No No No \n",
      "ACACACACACACACACACAC\n"
     ]
    }
   ],
   "source": [
    "print(\"Do you want to volunteer for the mosquito trial?: \", \"No \"*10)\n",
    "\n",
    "print('AC'*10)"
   ]
  },
  {
   "cell_type": "code",
   "execution_count": 87,
   "id": "67d0edf1-565a-474f-9876-5a4ccb25617e",
   "metadata": {},
   "outputs": [
    {
     "name": "stdout",
     "output_type": "stream",
     "text": [
      "AAGAGTCANNNNNNNNNNNNNNNNNNNNNNNNNNNNNNNNNNNNNNNNNNNNNNNNNNTTGATAG\n"
     ]
    }
   ],
   "source": [
    "seq1=\"AAGAGTCA\"\n",
    "seq2=\"TTGATAG\"\n",
    "print(seq1 + \"N\" * 50 +seq2)"
   ]
  },
  {
   "cell_type": "code",
   "execution_count": 90,
   "id": "9dd5f89c-2ee8-4117-bd74-ed33d605e61a",
   "metadata": {},
   "outputs": [
    {
     "name": "stdout",
     "output_type": "stream",
     "text": [
      "GGATAGAAATTANGGT\n",
      "ggatagaaattanggt\n",
      "GGATAGAaattaNGGT\n"
     ]
    }
   ],
   "source": [
    "bases=\"GGATAGAaattaNGGT\"\n",
    "print(bases.upper())\n",
    "print(bases.lower())\n",
    "print(bases)"
   ]
  },
  {
   "cell_type": "code",
   "execution_count": 98,
   "id": "b2f5dbdc-62cd-4abc-a8b2-7df3908681d6",
   "metadata": {},
   "outputs": [
    {
     "name": "stdout",
     "output_type": "stream",
     "text": [
      "['17', '20', '30', '12', '5', '6', '19', '13']\n",
      "['12', '13', '17', '19', '20', '30', '5', '6']\n",
      "17\n",
      "2030\n",
      "50\n",
      "int array is [17, 20, 30, 12, 5, 6, 19, 13]\n",
      "[5, 6, 12, 13, 17, 19, 20, 30]\n",
      "total sum is:  122\n"
     ]
    }
   ],
   "source": [
    "codestr= \"17,20,30,12,5,6,19,13\"\n",
    "# split it into an array\n",
    "dat=codestr.split(\",\")\n",
    "# print the first item\n",
    "print(dat)\n",
    "print(sorted(dat))\n",
    "print(dat[0])\n",
    "# print the sum of the 2nd and 3rd items\n",
    "# this won't work because they are strings\n",
    "print(dat[1] + dat[2])\n",
    "print(int(dat[1]) + int(dat[2]) )\n",
    "intarray = [ int(x) for x in dat]\n",
    "print(f'int array is {intarray}')\n",
    "print(sorted(intarray))\n",
    "print(\"total sum is: \",sum(intarray))"
   ]
  }
 ],
 "metadata": {
  "kernelspec": {
   "display_name": "Python 3 (ipykernel)",
   "language": "python",
   "name": "python3"
  },
  "language_info": {
   "codemirror_mode": {
    "name": "ipython",
    "version": 3
   },
   "file_extension": ".py",
   "mimetype": "text/x-python",
   "name": "python",
   "nbconvert_exporter": "python",
   "pygments_lexer": "ipython3",
   "version": "3.11.3"
  }
 },
 "nbformat": 4,
 "nbformat_minor": 5
}
