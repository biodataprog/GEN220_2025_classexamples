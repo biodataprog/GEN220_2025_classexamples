{
 "cells": [
  {
   "cell_type": "code",
   "execution_count": 8,
   "id": "13362c5e-d41b-4d22-a48a-af4eb9ae42aa",
   "metadata": {},
   "outputs": [
    {
     "name": "stdout",
     "output_type": "stream",
     "text": [
      "Cyanobacterium_aponinum_pcc_10605.ASM31767v1 Nostoc_punctiforme_pcc_73102.ASM2002v1\n",
      "OG0000000 \n",
      "OG0000001 AFZ52442, AFZ54265, AFZ54640\n",
      "OG0000002 AFZ55137\n",
      "OG0000003 AFZ53198\n"
     ]
    }
   ],
   "source": [
    "import urllib.request\n",
    "orginfo = \"https://raw.githubusercontent.com/biodataprog/GEN220_data/refs/heads/main/genome/Orthogroups.csv\"\n",
    "info = urllib.request.urlopen(orginfo)\n",
    "i = 0\n",
    "for line in info:\n",
    "    #print(line)\n",
    "    linestrip = line.decode('UTF-8').strip()\n",
    "    # print(linestrip)\n",
    "    row = linestrip.split(\"\\t\")\n",
    "    print(row[0],row[1])\n",
    "    if i > 3:\n",
    "        break\n",
    "    i +=1"
   ]
  },
  {
   "cell_type": "code",
   "execution_count": 10,
   "id": "3a1b3da4-e615-44ca-9343-6202f3aabe63",
   "metadata": {},
   "outputs": [
    {
     "name": "stdout",
     "output_type": "stream",
     "text": [
      "city is Fort Collins, Colorado\n",
      "city is Riverside, California\n"
     ]
    }
   ],
   "source": [
    "import csv\n",
    "file2 = \"test2.csv\"\n",
    "with open(file2) as csvfile:\n",
    "    reader = csv.reader(csvfile,delimiter=\",\")\n",
    "    for row in reader:\n",
    "        #print(\"\\t\".join(row))\n",
    "        print('city is',row[1])\n"
   ]
  },
  {
   "cell_type": "code",
   "execution_count": 12,
   "id": "e32da485-95e9-429b-88b5-823594283f6e",
   "metadata": {
    "scrolled": true
   },
   "outputs": [
    {
     "name": "stdout",
     "output_type": "stream",
     "text": [
      "the header is \"['Fruit', 'Color', 'Shape']\"\n",
      "fruit is Apple color is Green\n",
      "fruit is Apple color is Red\n",
      "fruit is Orange color is Orange\n"
     ]
    }
   ],
   "source": [
    "file3 = \"test3.tsv\"\n",
    "with open(file3,\"r\") as csvfile:\n",
    "    reader = csv.reader(csvfile,delimiter=\"\\t\")\n",
    "    header = next(reader)\n",
    "    print(f'the header is \"{header}\"')\n",
    "    for row in reader:\n",
    "        print(f'fruit is {row[0]} color is {row[1]}')"
   ]
  },
  {
   "cell_type": "code",
   "execution_count": 17,
   "id": "74037bbb-9723-49ab-a58c-7a9bb807babc",
   "metadata": {},
   "outputs": [],
   "source": [
    "with open(\"outtest.csv\",\"w\") as csvfile:\n",
    "  writer = csv.writer(csvfile,delimiter=\",\")\n",
    "  writer.writerow([\"Name\",\"Flavor\",\"Color\"])\n",
    "  writer.writerow([\"Apple\",\"Sweet\",\"Red\"])\n",
    "  writer.writerow([\"Pretzel\",\"Salty\",\"Brown\"])\n",
    "\n",
    "with open(\"outtest2.tsv\",\"w\") as tsvfile:\n",
    "    writer = csv.writer(tsvfile,delimiter=\"\\t\")\n",
    "    writer.writerow([\"Name\",\"Flavor\",\"Color\"])\n",
    "    writer.writerow([\"Apple\",\"Sweet\",\"Red\\tYellow\"])\n",
    "    writer.writerow([\"Pretzel\",\"Salty\",\"Brown\"])\n",
    "    writer.writerow([100,'cookie','cherry'])"
   ]
  },
  {
   "cell_type": "code",
   "execution_count": 18,
   "id": "6ba49772-2a76-40b0-8db0-831794350929",
   "metadata": {},
   "outputs": [
    {
     "name": "stdout",
     "output_type": "stream",
     "text": [
      "a;100;3.6363636363636367\n"
     ]
    }
   ],
   "source": [
    "l = [ 'a', 100, 12/3.3 ]\n",
    "#print(\";\".join(l)) # this will error\n",
    "print( \";\".join(map(str,l)))"
   ]
  },
  {
   "cell_type": "code",
   "execution_count": 21,
   "id": "ddea7a98-a7e1-475e-a698-967e4e4f9dcb",
   "metadata": {},
   "outputs": [
    {
     "name": "stdout",
     "output_type": "stream",
     "text": [
      "2\n",
      "5\n",
      "10\n",
      "17\n"
     ]
    }
   ],
   "source": [
    "l = [1,2,3,4]\n",
    "squares = map(lambda x: x**2 + 1,l)\n",
    "for s in squares:\n",
    "    print(s)"
   ]
  },
  {
   "cell_type": "code",
   "execution_count": 26,
   "id": "4d943e4f-a850-4c14-a9ba-f87047f244f1",
   "metadata": {},
   "outputs": [
    {
     "name": "stdout",
     "output_type": "stream",
     "text": [
      "revlist is  ['a', 'yyy', 'zzz']\n",
      "a\n",
      "yyy\n",
      "zzz\n"
     ]
    }
   ],
   "source": [
    "l = ['zzz','yyy','a']\n",
    "revlist = list( reversed(l) )\n",
    "print('revlist is ',revlist)\n",
    "#print(reversed(l))\n",
    "for n in reversed(l):\n",
    "    print(n)"
   ]
  },
  {
   "cell_type": "code",
   "execution_count": 32,
   "id": "58c03c72-2828-4b17-97a3-c0a7258bb2be",
   "metadata": {},
   "outputs": [
    {
     "name": "stdout",
     "output_type": "stream",
     "text": [
      "<reversed object at 0x7f150b366f50>\n"
     ]
    }
   ],
   "source": [
    "DNA='ACGT'\n",
    "revDNA = f'{reversed(DNA)}'\n",
    "print(revDNA)"
   ]
  },
  {
   "cell_type": "code",
   "execution_count": 35,
   "id": "3905234a-5039-4a55-b788-f9efb9142e9e",
   "metadata": {},
   "outputs": [
    {
     "name": "stdout",
     "output_type": "stream",
     "text": [
      "['a', 'b', 'c', 'd']\n",
      "n is b  items ['a', 'c', 'd']\n"
     ]
    }
   ],
   "source": [
    "items = ['a','b','c','d']\n",
    "print(items)\n",
    "n = items.pop(1)\n",
    "print('n is',n, ' items',items)"
   ]
  },
  {
   "cell_type": "code",
   "execution_count": 39,
   "id": "7503b51b-38c3-453b-855a-8a3b743255d2",
   "metadata": {},
   "outputs": [
    {
     "name": "stdout",
     "output_type": "stream",
     "text": [
      "items is now:  ['a', 'c', 'd', ['z', 'y', 'x']]\n",
      "4\n"
     ]
    }
   ],
   "source": [
    "items = ['a','b','c','d']\n",
    "n = items.pop(1)\n",
    "newitems = ['z','y','x']\n",
    "items.append(newitems)\n",
    "print('items is now: ',items)\n",
    "print(len(items))"
   ]
  },
  {
   "cell_type": "code",
   "execution_count": 40,
   "id": "9a593412-899d-4f95-b3bc-aaff2f206154",
   "metadata": {},
   "outputs": [
    {
     "name": "stdout",
     "output_type": "stream",
     "text": [
      "items is now:  ['a', 'c', 'd', 'z', 'y', 'x']\n",
      "6\n"
     ]
    }
   ],
   "source": [
    "items = ['a','b','c','d']\n",
    "n = items.pop(1)\n",
    "newitems = ['z','y','x']\n",
    "items.extend(newitems)\n",
    "print('items is now: ',items)\n",
    "print(len(items))"
   ]
  },
  {
   "cell_type": "code",
   "execution_count": 44,
   "id": "ff629579-801d-4fdb-b5b8-251dfb535a59",
   "metadata": {},
   "outputs": [
    {
     "name": "stdout",
     "output_type": "stream",
     "text": [
      "['a', 'c', 'd', 'z', 'y', 'x', 'h', 'h', 'h', 'h']\n"
     ]
    }
   ],
   "source": [
    "items.append('h')\n",
    "print(items)\n",
    "items.extend(['h','l'])"
   ]
  },
  {
   "cell_type": "code",
   "execution_count": 46,
   "id": "efd904c0-bdc0-4225-9ca4-78adce4d4a9e",
   "metadata": {},
   "outputs": [
    {
     "name": "stdout",
     "output_type": "stream",
     "text": [
      "['a', 'c', 'd', 'z', 'y', 'x', 'h', 'l']\n"
     ]
    }
   ],
   "source": [
    "items.remove('h')\n",
    "items.remove('h')\n",
    "items.remove('h')\n",
    "print(items)"
   ]
  },
  {
   "cell_type": "code",
   "execution_count": 48,
   "id": "33524684-a3eb-42d4-b096-59650e5f4f41",
   "metadata": {},
   "outputs": [],
   "source": [
    "items.reverse()"
   ]
  },
  {
   "cell_type": "code",
   "execution_count": 49,
   "id": "6d4cbb6a-faa8-4ff3-8d90-9b8db70fae77",
   "metadata": {},
   "outputs": [
    {
     "name": "stdout",
     "output_type": "stream",
     "text": [
      "['l', 'h', 'x', 'y', 'z', 'd', 'c', 'a']\n"
     ]
    }
   ],
   "source": [
    "print(items)"
   ]
  },
  {
   "cell_type": "code",
   "execution_count": 50,
   "id": "ce5a3402-3bac-45ab-9ccd-4fdf31d84807",
   "metadata": {},
   "outputs": [
    {
     "name": "stdout",
     "output_type": "stream",
     "text": [
      "['a', 'c', 'd', 'h', 'l', 'x', 'y', 'z']\n"
     ]
    }
   ],
   "source": [
    "items.sort()\n",
    "print(items)"
   ]
  },
  {
   "cell_type": "code",
   "execution_count": 51,
   "id": "7ef48c3a-1236-442f-9eab-87374a270e6c",
   "metadata": {},
   "outputs": [
    {
     "name": "stdout",
     "output_type": "stream",
     "text": [
      "['SOD1', 'CDC11', 'YFG1']\n",
      "['CDC11', 'SOD1', 'YFG1']\n"
     ]
    }
   ],
   "source": [
    "genes = ['SOD1','CDC11','YFG1']\n",
    "print(genes)\n",
    "sort_genes = sorted(genes)\n",
    "print(sort_genes)"
   ]
  },
  {
   "cell_type": "code",
   "execution_count": 52,
   "id": "dc9300d6-b0ed-4dab-8fdc-9ee3f4957f34",
   "metadata": {},
   "outputs": [
    {
     "name": "stdout",
     "output_type": "stream",
     "text": [
      "unsorted [141, 7, 90, 3, 13]\n",
      "sorted [3, 7, 13, 90, 141]\n",
      "reversed [141, 90, 13, 7, 3]\n"
     ]
    }
   ],
   "source": [
    "numbers = [141, 7, 90, 3, 13]\n",
    "print(\"unsorted\",numbers)\n",
    "numbers.sort()\n",
    "print(\"sorted\",numbers)\n",
    "print(\"reversed\",sorted(numbers,reverse=True))"
   ]
  },
  {
   "cell_type": "code",
   "execution_count": 53,
   "id": "e8e8d90d-84ee-4653-a47b-f73b1aa6a8aa",
   "metadata": {},
   "outputs": [
    {
     "name": "stdout",
     "output_type": "stream",
     "text": [
      "['3-Jan-2016', '4-Mar-2015', '2-Aug-1999', '1-May-2000']\n",
      "['1-May-2000', '2-Aug-1999', '3-Jan-2016', '4-Mar-2015']\n"
     ]
    }
   ],
   "source": [
    "dates = ['3-Jan-2016', '4-Mar-2015', '2-Aug-1999', '1-May-2000']\n",
    "print(dates)\n",
    "dates.sort()\n",
    "print(dates)"
   ]
  },
  {
   "cell_type": "code",
   "execution_count": 55,
   "id": "1570a0b4-92ed-4f66-99f3-0a3f4ca95e44",
   "metadata": {},
   "outputs": [
    {
     "name": "stdout",
     "output_type": "stream",
     "text": [
      "[datetime.datetime(2000, 5, 1, 0, 0), datetime.datetime(1999, 8, 2, 0, 0), datetime.datetime(2016, 1, 3, 0, 0), datetime.datetime(2015, 3, 4, 0, 0)]\n"
     ]
    }
   ],
   "source": [
    "from datetime import datetime\n",
    "newdates = []      \n",
    "for str in dates:\n",
    "    newdates.append(datetime.strptime(str,'%d-%b-%Y'))\n",
    "print(newdates)"
   ]
  },
  {
   "cell_type": "code",
   "execution_count": 56,
   "id": "bfbeef70-37b4-46e2-a202-049a4a07f1e8",
   "metadata": {},
   "outputs": [
    {
     "name": "stdout",
     "output_type": "stream",
     "text": [
      "[datetime.datetime(1999, 8, 2, 0, 0), datetime.datetime(2000, 5, 1, 0, 0), datetime.datetime(2015, 3, 4, 0, 0), datetime.datetime(2016, 1, 3, 0, 0)]\n"
     ]
    }
   ],
   "source": [
    "newdates.sort()\n",
    "print(newdates)"
   ]
  },
  {
   "cell_type": "code",
   "execution_count": 57,
   "id": "917c1357-864c-4ba3-876b-605652be3a58",
   "metadata": {},
   "outputs": [
    {
     "name": "stdout",
     "output_type": "stream",
     "text": [
      "1999-Aug-02  OR  1999-08-02  OR  Monday, Aug 02, 1999  OR  Mon Aug  2 00:00:00 1999\n",
      "2000-May-01  OR  2000-05-01  OR  Monday, May 01, 2000  OR  Mon May  1 00:00:00 2000\n",
      "2015-Mar-04  OR  2015-03-04  OR  Wednesday, Mar 04, 2015  OR  Wed Mar  4 00:00:00 2015\n",
      "2016-Jan-03  OR  2016-01-03  OR  Sunday, Jan 03, 2016  OR  Sun Jan  3 00:00:00 2016\n"
     ]
    }
   ],
   "source": [
    "for n in newdates:\n",
    "    print(datetime.strftime(n,\"%Y-%b-%d\"),\" OR \",\n",
    "        datetime.strftime(n,\"%Y-%m-%d\"), \" OR \",\n",
    "        datetime.strftime(n,\"%A, %b %d, %Y\"), \" OR \",\n",
    "        datetime.strftime(n,\"%c\")\n",
    "        )"
   ]
  },
  {
   "cell_type": "code",
   "execution_count": 58,
   "id": "c7f71544-b849-4e45-96a1-32a33e107d4d",
   "metadata": {},
   "outputs": [
    {
     "name": "stdout",
     "output_type": "stream",
     "text": [
      "{}\n",
      "{'diane': 10, 'jack': 13}\n"
     ]
    }
   ],
   "source": [
    "things = {}      # an empty dictionary\n",
    "listofstuff = [] # an empty array\n",
    "print(things)\n",
    "things = {'diane': 10, 'jack': 13}\n",
    "print(things)"
   ]
  },
  {
   "cell_type": "code",
   "execution_count": 59,
   "id": "dcea8aab-08a2-4d78-b46d-4cbc5459f0bd",
   "metadata": {},
   "outputs": [
    {
     "name": "stdout",
     "output_type": "stream",
     "text": [
      "{'diane': 10, 'jack': 13, 'billy': 15}\n"
     ]
    }
   ],
   "source": [
    "things['billy'] = 15 \n",
    "print(things)"
   ]
  },
  {
   "cell_type": "code",
   "execution_count": 60,
   "id": "bf9a3ba0-aa2d-4b3b-8a6f-06b1a28bc39c",
   "metadata": {},
   "outputs": [
    {
     "name": "stdout",
     "output_type": "stream",
     "text": [
      "13\n"
     ]
    }
   ],
   "source": [
    "print(things['jack'])"
   ]
  },
  {
   "cell_type": "code",
   "execution_count": 61,
   "id": "4605f81b-7e15-468e-9f00-f3d5803cd565",
   "metadata": {},
   "outputs": [
    {
     "name": "stdout",
     "output_type": "stream",
     "text": [
      "SOD1\n"
     ]
    }
   ],
   "source": [
    "genes = [ 'BRCA1','SOD1','PTEN']\n",
    "print(genes[1])"
   ]
  },
  {
   "cell_type": "code",
   "execution_count": 62,
   "id": "395be6f2-117a-4833-b94b-3e40860ff185",
   "metadata": {},
   "outputs": [
    {
     "name": "stdout",
     "output_type": "stream",
     "text": [
      "{'diane': 10, 'jack': 14, 'billy': 15}\n"
     ]
    }
   ],
   "source": [
    "things['jack'] = 14\n",
    "print(things)"
   ]
  },
  {
   "cell_type": "code",
   "execution_count": 63,
   "id": "24ea6cbf-cf5f-4dbd-9ecc-ade44182a425",
   "metadata": {},
   "outputs": [],
   "source": [
    "strangerthings = dict()"
   ]
  },
  {
   "cell_type": "code",
   "execution_count": 64,
   "id": "47b22f6a-6fcd-4c13-b7ba-503e19deb213",
   "metadata": {},
   "outputs": [
    {
     "name": "stdout",
     "output_type": "stream",
     "text": [
      "BRCA1\n",
      "SOD1\n",
      "PTEN\n"
     ]
    }
   ],
   "source": [
    "for g in genes:\n",
    "    print(g)"
   ]
  },
  {
   "cell_type": "code",
   "execution_count": 65,
   "id": "1ea36860-0034-4ece-9eec-0d0aff3911e6",
   "metadata": {},
   "outputs": [
    {
     "data": {
      "text/plain": [
       "11"
      ]
     },
     "execution_count": 65,
     "metadata": {},
     "output_type": "execute_result"
    }
   ],
   "source": [
    "strangerthings = dict([('Will', 12), ('Jim', 44), ('Joyce', 45), ('Eleven',11),('Lucas',10)])\n",
    "strangerthings['Eleven']"
   ]
  },
  {
   "cell_type": "code",
   "execution_count": 69,
   "id": "b952ef75-276d-4d43-b4ca-f89944defb61",
   "metadata": {},
   "outputs": [
    {
     "name": "stdout",
     "output_type": "stream",
     "text": [
      "Eleven value is 11\n",
      "Jim value is 44\n",
      "Joyce value is 45\n",
      "Lucas value is 10\n",
      "Will value is 12\n"
     ]
    }
   ],
   "source": [
    "for item in sorted(strangerthings):\n",
    "    print(item, 'value is', strangerthings[item])"
   ]
  },
  {
   "cell_type": "code",
   "execution_count": 81,
   "id": "937670ab-f520-4e7e-a549-3194c4db539f",
   "metadata": {},
   "outputs": [
    {
     "name": "stdout",
     "output_type": "stream",
     "text": [
      "159.83333333333334\n",
      "131.8\n",
      "99.5\n"
     ]
    }
   ],
   "source": [
    "def average(nums,maximum=100):\n",
    "    count=0\n",
    "    sum  = 0.0\n",
    "    for i in nums:\n",
    "        if i > maximum:\n",
    "            continue\n",
    "        count += 1\n",
    "        sum   += i\n",
    "    return sum / count\n",
    "print(average([100,200,300,150,110,99], 1000))\n",
    "print(average([100,200,300,150,110,99], 250))\n",
    "print(average([100,200,300,150,110,99]))"
   ]
  },
  {
   "cell_type": "code",
   "execution_count": null,
   "id": "41c6ee76-20e5-4f98-850e-aebda9eac20d",
   "metadata": {},
   "outputs": [],
   "source": []
  }
 ],
 "metadata": {
  "kernelspec": {
   "display_name": "Python 3 (ipykernel)",
   "language": "python",
   "name": "python3"
  },
  "language_info": {
   "codemirror_mode": {
    "name": "ipython",
    "version": 3
   },
   "file_extension": ".py",
   "mimetype": "text/x-python",
   "name": "python",
   "nbconvert_exporter": "python",
   "pygments_lexer": "ipython3",
   "version": "3.11.3"
  }
 },
 "nbformat": 4,
 "nbformat_minor": 5
}
