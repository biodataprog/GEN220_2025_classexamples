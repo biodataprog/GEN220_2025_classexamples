{
 "cells": [
  {
   "cell_type": "code",
   "execution_count": 2,
   "id": "77823bff-f12c-4067-b9f8-954d12236498",
   "metadata": {},
   "outputs": [
    {
     "name": "stdout",
     "output_type": "stream",
     "text": [
      "bigger than 5\n"
     ]
    }
   ],
   "source": [
    "n=10\n",
    "if n > 5:\n",
    "    print(\"bigger than 5\")\n",
    "elif n < 5:\n",
    "    print(\"less than 5\")"
   ]
  },
  {
   "cell_type": "code",
   "execution_count": 3,
   "id": "94cee749-d5c0-48ba-8374-46b78cf69764",
   "metadata": {},
   "outputs": [
    {
     "name": "stdout",
     "output_type": "stream",
     "text": [
      "less than 5\n"
     ]
    }
   ],
   "source": [
    "n=4\n",
    "if n > 5:\n",
    "    print(\"bigger than 5\")\n",
    "elif n < 5:\n",
    "    print(\"less than 5\")"
   ]
  },
  {
   "cell_type": "code",
   "execution_count": 9,
   "id": "ea9d6111-dc88-49d7-8d75-df643c4ac6e5",
   "metadata": {},
   "outputs": [
    {
     "name": "stdout",
     "output_type": "stream",
     "text": [
      "n is value 1\n",
      "n is value 2\n",
      "this is an even number\n",
      "n is value 3\n",
      "n is value 4\n",
      "this is an even number\n",
      "n is value 5\n",
      "n is value 6\n",
      "this is an even number\n",
      "n is value 7\n"
     ]
    }
   ],
   "source": [
    "n=1\n",
    "# while loops iterate while condition is met\n",
    "while n < 10:\n",
    "    print(f\"n is value {n}\")\n",
    "    if n % 2 == 0:\n",
    "        print(\"this is an even number\")\n",
    "    if n == 7:\n",
    "        # break will stop the loop\n",
    "        break\n",
    "    n += 1"
   ]
  },
  {
   "cell_type": "code",
   "execution_count": 16,
   "id": "e5beca4d-bef4-4f3d-ac5b-01e2fb662f41",
   "metadata": {},
   "outputs": [
    {
     "name": "stdout",
     "output_type": "stream",
     "text": [
      "character is a\n",
      "character is b\n",
      "character is c\n",
      "character is d\n",
      "character is e\n",
      "character is f\n",
      "character is g\n",
      "I would like to eat an apple\n",
      "I would like to eat a pear\n",
      "I would like to eat an orange\n",
      "I would like to eat a lemon\n",
      "I would like to eat a durian\n"
     ]
    }
   ],
   "source": [
    "string='abcdefg'\n",
    "for ch in string:\n",
    "    print(f'character is {ch}')\n",
    "fruit = ['apple', 'pear', 'orange', 'lemon', 'durian']\n",
    "for f in fruit:\n",
    "    if f.startswith('a') or f.startswith('e') or f.startswith('i') or f.startswith('o') or f.startswith('u'):\n",
    "        print(f'I would like to eat an {f}')\n",
    "    else:\n",
    "        print(f'I would like to eat a {f}')\n",
    "# str.startswith('pattern') is same as \n",
    "# str[0:2] == 'pattern'\n",
    "# if str.find('pattern') == 0 "
   ]
  },
  {
   "cell_type": "code",
   "execution_count": 19,
   "id": "c52a14b0-7315-4b31-a40a-f1baf8f3a0b1",
   "metadata": {},
   "outputs": [
    {
     "name": "stdout",
     "output_type": "stream",
     "text": [
      "I would like to eat an apple\n",
      "I would like to eat a pear\n",
      "I would like to eat an orange\n",
      "I would like to eat a lemon\n",
      "I would like to eat a durian\n",
      "==\n",
      "I would like to eat an apple\n",
      "I would like to eat a pear\n",
      "I would like to eat an orange\n",
      "I would like to eat a lemon\n",
      "I would like to eat a durian\n"
     ]
    }
   ],
   "source": [
    "fruit = ['apple', 'pear', 'orange', 'lemon', 'durian']\n",
    "vowels = 'aeiou'\n",
    "for f in fruit:\n",
    "    if f[0] in vowels:\n",
    "        print(f'I would like to eat an {f}')\n",
    "    else:\n",
    "        print(f'I would like to eat a {f}')\n",
    "\n",
    "print('==')\n",
    "vowellist = ['a','e','i','o','u']\n",
    "for f in fruit:\n",
    "    if f[0] in vowellist:\n",
    "        print(f'I would like to eat an {f}')\n",
    "    else:\n",
    "        print(f'I would like to eat a {f}')"
   ]
  },
  {
   "cell_type": "code",
   "execution_count": 23,
   "id": "b7799ff7-7a8e-48dc-90b1-3e9249f41bc4",
   "metadata": {},
   "outputs": [
    {
     "name": "stdout",
     "output_type": "stream",
     "text": [
      "not both true\n"
     ]
    }
   ],
   "source": [
    "a=True\n",
    "b=False\n",
    "if a & b:\n",
    "    print('these are both true')\n",
    "else: \n",
    "    print('not both true')"
   ]
  },
  {
   "cell_type": "code",
   "execution_count": 27,
   "id": "0a443976-f169-4386-973e-b0e4c588f004",
   "metadata": {},
   "outputs": [
    {
     "name": "stdout",
     "output_type": "stream",
     "text": [
      "x is  1\n",
      "x is  2\n",
      "x is  3\n",
      "x is  4\n",
      "x is  5\n",
      "x is  6\n",
      "x is  7\n",
      "x is  8\n",
      "x is  9\n",
      "x is  10\n"
     ]
    }
   ],
   "source": [
    "x=1\n",
    "while not ( x > 10 ):\n",
    "      print(\"x is \",x)\n",
    "      x += 1"
   ]
  },
  {
   "cell_type": "code",
   "execution_count": 32,
   "id": "3e675dd9-de39-4ea3-ade9-45aca4af2431",
   "metadata": {},
   "outputs": [
    {
     "name": "stdout",
     "output_type": "stream",
     "text": [
      "not a==b\n"
     ]
    }
   ],
   "source": [
    "a = 1\n",
    "b = 2\n",
    "if not (a == b):\n",
    "    print('not a==b')"
   ]
  },
  {
   "cell_type": "code",
   "execution_count": 29,
   "id": "b90dbd13-6599-46ba-be7e-c42e979232df",
   "metadata": {},
   "outputs": [
    {
     "ename": "SyntaxError",
     "evalue": "incomplete input (2045697227.py, line 1)",
     "output_type": "error",
     "traceback": [
      "\u001b[0;36m  Cell \u001b[0;32mIn[29], line 1\u001b[0;36m\u001b[0m\n\u001b[0;31m    if a != b:\u001b[0m\n\u001b[0m              ^\u001b[0m\n\u001b[0;31mSyntaxError\u001b[0m\u001b[0;31m:\u001b[0m incomplete input\n"
     ]
    }
   ],
   "source": [
    "if a != b:"
   ]
  },
  {
   "cell_type": "code",
   "execution_count": 38,
   "id": "137a726e-addc-46f7-91b7-1464386bfed6",
   "metadata": {},
   "outputs": [
    {
     "name": "stdout",
     "output_type": "stream",
     "text": [
      "list item  0 = 7\n",
      "list item  1 = 10\n",
      "list item  2 = 2\n",
      "list item  3 = 2\n",
      "list item  4 = 7\n"
     ]
    }
   ],
   "source": [
    "list = [7, 10, 2, 2, 7]\n",
    "for i in range(len(list)):\n",
    "    print(\"list item \",i, \"=\",list[i])"
   ]
  },
  {
   "cell_type": "code",
   "execution_count": 37,
   "id": "472b0710-8014-434c-abfa-01b6648bbdde",
   "metadata": {},
   "outputs": [
    {
     "name": "stdout",
     "output_type": "stream",
     "text": [
      "['a', 'b', 'c']\n",
      "('a', 'b', 'c')\n",
      "updated list ['a', 'b', 'bb']\n"
     ]
    },
    {
     "ename": "TypeError",
     "evalue": "'tuple' object does not support item assignment",
     "output_type": "error",
     "traceback": [
      "\u001b[0;31m---------------------------------------------------------------------------\u001b[0m",
      "\u001b[0;31mTypeError\u001b[0m                                 Traceback (most recent call last)",
      "Cell \u001b[0;32mIn[37], line 7\u001b[0m\n\u001b[1;32m      5\u001b[0m mylist[\u001b[38;5;241m2\u001b[39m] \u001b[38;5;241m=\u001b[39m \u001b[38;5;124m'\u001b[39m\u001b[38;5;124mbb\u001b[39m\u001b[38;5;124m'\u001b[39m\n\u001b[1;32m      6\u001b[0m \u001b[38;5;28mprint\u001b[39m(\u001b[38;5;124m'\u001b[39m\u001b[38;5;124mupdated list\u001b[39m\u001b[38;5;124m'\u001b[39m,mylist)\n\u001b[0;32m----> 7\u001b[0m \u001b[43mmytuple\u001b[49m\u001b[43m[\u001b[49m\u001b[38;5;241;43m2\u001b[39;49m\u001b[43m]\u001b[49m \u001b[38;5;241m=\u001b[39m \u001b[38;5;124m'\u001b[39m\u001b[38;5;124mgg\u001b[39m\u001b[38;5;124m'\u001b[39m\n\u001b[1;32m      8\u001b[0m \u001b[38;5;28mprint\u001b[39m(\u001b[38;5;124m'\u001b[39m\u001b[38;5;124mupdated tuple\u001b[39m\u001b[38;5;124m'\u001b[39m,mytuple)\n",
      "\u001b[0;31mTypeError\u001b[0m: 'tuple' object does not support item assignment"
     ]
    }
   ],
   "source": [
    "mylist = ['a', 'b','c']\n",
    "mytuple = ('a', 'b', 'c')\n",
    "print(mylist)\n",
    "print(mytuple)\n",
    "mylist[2] = 'bb'\n",
    "print('updated list',mylist)\n",
    "mytuple[2] = 'gg'\n",
    "print('updated tuple',mytuple)\n"
   ]
  },
  {
   "cell_type": "code",
   "execution_count": 39,
   "id": "7d4122c1-6a63-424b-aabb-1f22438f9fc5",
   "metadata": {},
   "outputs": [
    {
     "name": "stdout",
     "output_type": "stream",
     "text": [
      "item[0] = 7\n",
      "item[1] = 10\n",
      "item[2] = 2\n",
      "item[3] = 2\n",
      "item[4] = 7\n"
     ]
    }
   ],
   "source": [
    "for idx,item in enumerate(list):\n",
    "    print(\"item[%d] = %s\"%(idx,item))\n"
   ]
  },
  {
   "cell_type": "code",
   "execution_count": 51,
   "id": "6b7ced82-cbbf-4122-afaa-94ff671383e2",
   "metadata": {},
   "outputs": [
    {
     "name": "stdout",
     "output_type": "stream",
     "text": [
      "there are 6 older than or eq to 30\n"
     ]
    }
   ],
   "source": [
    "datafile=\"age.tsv\"\n",
    "with open(datafile,\"r\") as fh:\n",
    "    oldies=0\n",
    "    header=next(fh)\n",
    "    for line in fh:\n",
    "        #print(line.strip())\n",
    "        d = line.strip().split(\"\\t\")\n",
    "        #print(d)\n",
    "        if int(d[2]) >= 30:\n",
    "            oldies+=1\n",
    "    print(f'there are {oldies} older than or eq to 30') \n",
    "        \n",
    "        "
   ]
  },
  {
   "cell_type": "code",
   "execution_count": null,
   "id": "630fd396-5970-458a-b021-fa370d6c16bd",
   "metadata": {},
   "outputs": [],
   "source": []
  }
 ],
 "metadata": {
  "kernelspec": {
   "display_name": "Python 3 (ipykernel)",
   "language": "python",
   "name": "python3"
  },
  "language_info": {
   "codemirror_mode": {
    "name": "ipython",
    "version": 3
   },
   "file_extension": ".py",
   "mimetype": "text/x-python",
   "name": "python",
   "nbconvert_exporter": "python",
   "pygments_lexer": "ipython3",
   "version": "3.11.3"
  }
 },
 "nbformat": 4,
 "nbformat_minor": 5
}
