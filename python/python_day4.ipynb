{
 "cells": [
  {
   "cell_type": "code",
   "execution_count": 4,
   "id": "68fd795b-6ba2-4f38-9d31-ffa6007dacbf",
   "metadata": {},
   "outputs": [
    {
     "name": "stdout",
     "output_type": "stream",
     "text": [
      "{'California': ['Sacramento', 'San Francisco', 'Lake Tahoe', 'San Diego'], 'Ohio': ['Cleveland', 'Springville']}\n"
     ]
    }
   ],
   "source": [
    "# how to store more than one item in a dictionary spot\n",
    "cities_in_states = {}\n",
    "# only one item\n",
    "cities_in_states['California'] = 'Sacramento'\n",
    "cities_in_states['California'] = ['Sacramento', 'San Francisco', 'Lake Tahoe']\n",
    "cities_in_states['California'].append('San Diego')\n",
    "cities_in_states['Ohio'] = ['Cleveland']\n",
    "cities_in_states['Ohio'].append('Springville')\n",
    "\n",
    "print(cities_in_states)"
   ]
  },
  {
   "cell_type": "code",
   "execution_count": 39,
   "id": "d33fd657-30e4-47a7-92d7-a9b5304c0f31",
   "metadata": {},
   "outputs": [
    {
     "name": "stdout",
     "output_type": "stream",
     "text": [
      "{'apple': {'color': 'red', 'size': 'medium', 'seeds': True, 'shape': 'round'}, 'orange': {'color': 'orange', 'shape': 'round', 'size': 'medium', 'taste': 'sweet', 'seeds': True, 'rollability': 'excellent'}, 'grape_t': {'color': 'purple', 'shape': 'round', 'size': 'small', 'seeds': True}, 'grape_g': {'color': 'green', 'shape': 'round', 'size': 'small', 'seeds': False}, 'pear': {'color': 'green', 'shape': 'pear', 'size': 'medium', 'seeds': True}}\n",
      "Fruit apple has a color of red\n",
      "Fruit orange has a color of orange\n",
      "Fruit grape_t has a color of purple\n",
      "Fruit grape_g has a color of green\n",
      "Fruit pear has a color of green\n",
      "==\n",
      "Name\tsize\tshape\tcolor\n",
      "apple\tmedium\tround\tred\n",
      "orange\tmedium\tround\torange\n",
      "grape_t\tsmall\tround\tpurple\n",
      "grape_g\tsmall\tround\tgreen\n",
      "pear\tmedium\tpear\tgreen\n"
     ]
    }
   ],
   "source": [
    "import pprint\n",
    "fruit = {}\n",
    "fruit['apple'] = {'color': 'red', 'size': 'medium', 'seeds': True}\n",
    "fruit['apple']['shape'] = 'round'\n",
    "fruit['orange'] = {}\n",
    "fruit['orange']['color'] = 'orange'\n",
    "fruit['orange']['shape'] = 'round'\n",
    "fruit['orange']['size'] = 'medium'\n",
    "fruit['orange']['taste'] = 'sweet'\n",
    "fruit['orange']['seeds'] = True\n",
    "fruit['orange']['rollability'] = 'excellent'\n",
    "fruit['grape_t'] = {'color': 'purple', 'shape': 'round', 'size': 'small', 'seeds': True}\n",
    "fruit['grape_g'] = {'color': 'green',  'shape': 'round', 'size': 'small', 'seeds': False}\n",
    "fruit['pear'] = {'color': 'green',  'shape': 'pear', 'size': 'medium', 'seeds': True}\n",
    "\n",
    "#fruit['grapes'] = ['purple']\n",
    "print(fruit)\n",
    "for f in fruit:\n",
    "    #print(f)\n",
    "    #print(fruit[f]['color'])\n",
    "    print(f'Fruit {f} has a color of {fruit[f][\"color\"]}')\n",
    "\n",
    "print(\"==\")\n",
    "properties = sorted(['color', 'shape', 'size'],reverse=True)\n",
    "print(\"\\t\".join(['Name']+properties))\n",
    "for f in fruit:\n",
    "#    row = [f, fruit[f]['color'],fruit[f]['shape'], fruit[f]['size']]\n",
    "    row = [f]\n",
    "    for prop in properties:\n",
    "        row.append(fruit[f][prop])\n",
    "    print(\"\\t\".join(row))"
   ]
  },
  {
   "cell_type": "code",
   "execution_count": 43,
   "id": "9db557fb-912b-4846-8058-eb495a282522",
   "metadata": {},
   "outputs": [
    {
     "name": "stdout",
     "output_type": "stream",
     "text": [
      "{'apple': [{'id': 'app012', 'wt': 10.2, 'size': 5}, {'id': 'app013', 'wt': 9.8, 'size': 4.2}, {'id': 'app014', 'wt': 6.7, 'size': 3.2}, {'id': 'app017', 'wt': 7.1, 'size': 1.2}, {'id': 'app016', 'wt': 3.2, 'size': 2.2}], 'orange': [{'id': 'or01', 'wt': 4.7, 'size': 3.1}]}\n",
      "Average apple weight is 7.4 out of 5 apples\n",
      "Average apple weight is 7.4 out of 5 apple\n",
      "Average orange weight is 4.7 out of 1 orange\n"
     ]
    }
   ],
   "source": [
    "fruit = {}\n",
    "# barrel with multiple types of fruit, and a fruit can occur more than once\n",
    "#type='apple'\n",
    "fruit['apple'] = []\n",
    "fruit['apple'].append({'id': 'app012', 'wt': 10.2, 'size': 5})\n",
    "fruit['apple'].append({'id': 'app013', 'wt': 9.8, 'size': 4.2})\n",
    "fruit['apple'].append({'id': 'app014', 'wt': 6.7, 'size': 3.2})\n",
    "fruit['apple'].append({'id': 'app017', 'wt': 7.1, 'size': 1.2})\n",
    "fruit['apple'].append({'id': 'app016', 'wt': 3.2, 'size': 2.2})\n",
    "# apple = {'id': 'app016', 'wt': 3.2, 'size': 2.2}\n",
    "# \n",
    "fruit['orange'] = []\n",
    "fruit['orange'].append({'id': 'or01', 'wt': 4.7, 'size': 3.1})\n",
    "\n",
    "print(fruit)\n",
    "# average weight of an apple?\n",
    "total_weight = 0\n",
    "total_apples = 0\n",
    "for apple in fruit['apple']:\n",
    "    total_weight += apple['wt']\n",
    "    total_apples += 1\n",
    "print(f'Average apple weight is {total_weight / total_apples} out of {total_apples} apples')\n",
    "for type in fruit:\n",
    "    total = 0\n",
    "    weight = 0\n",
    "    for f in fruit[type]:\n",
    "        weight += f['wt']\n",
    "        total += 1\n",
    "    print(f'Average {type} weight is {weight / total} out of {total} {type}')"
   ]
  },
  {
   "cell_type": "code",
   "execution_count": 46,
   "id": "af2c4693-b23b-4577-a5c6-c2ea518cbf9f",
   "metadata": {},
   "outputs": [
    {
     "name": "stdout",
     "output_type": "stream",
     "text": [
      "Rice filename is rice_random_exons.bed\n",
      "Total length of exons is 370855 bp (370.855 kb)\n",
      "Total length of exons is 370855 bp (370.855 kb)\n"
     ]
    }
   ],
   "source": [
    "import os\n",
    "riceurl=\"https://raw.githubusercontent.com/biodataprog/GEN220/master/data/rice_random_exons.bed\"\n",
    "ricefile=os.path.basename(riceurl)\n",
    "print(\"Rice filename is {}\".format(ricefile))\n",
    "if not os.path.exists(ricefile):\n",
    "    os.system(\"curl -O {}\".format(riceurl))\n",
    "total_exon_length = 0\n",
    "with open(ricefile,\"r\") as fh:\n",
    "    for bedline in fh:\n",
    "#        bedline = bedline.strip()\n",
    "        bedarray = bedline.strip().split(\"\\t\")\n",
    "        exonlen = abs(int(bedarray[2])-int(bedarray[1]))+1\n",
    "#        print(\"exon length is {}\".format(exonlen))\n",
    "        total_exon_length += exonlen\n",
    "print(\"Total length of exons is {} bp ({} kb)\".format(total_exon_length,total_exon_length/1000))\n",
    "print(f\"Total length of exons is {total_exon_length} bp ({total_exon_length/1000} kb)\")"
   ]
  }
 ],
 "metadata": {
  "kernelspec": {
   "display_name": "Python 3 (ipykernel)",
   "language": "python",
   "name": "python3"
  },
  "language_info": {
   "codemirror_mode": {
    "name": "ipython",
    "version": 3
   },
   "file_extension": ".py",
   "mimetype": "text/x-python",
   "name": "python",
   "nbconvert_exporter": "python",
   "pygments_lexer": "ipython3",
   "version": "3.11.3"
  }
 },
 "nbformat": 4,
 "nbformat_minor": 5
}
